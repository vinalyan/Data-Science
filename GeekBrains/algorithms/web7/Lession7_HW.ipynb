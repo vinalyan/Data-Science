{
  "nbformat": 4,
  "nbformat_minor": 0,
  "metadata": {
    "colab": {
      "name": "Lession7_HW.ipynb",
      "provenance": [],
      "authorship_tag": "ABX9TyMb97ocmlwkFOG8Hu/FbW3c",
      "include_colab_link": true
    },
    "kernelspec": {
      "name": "python3",
      "display_name": "Python 3"
    }
  },
  "cells": [
    {
      "cell_type": "markdown",
      "metadata": {
        "id": "view-in-github",
        "colab_type": "text"
      },
      "source": [
        "<a href=\"https://colab.research.google.com/github/vinalyan/Data-Science/blob/master/GeekBrains/algorithms/web7/Lession7_HW.ipynb\" target=\"_parent\"><img src=\"https://colab.research.google.com/assets/colab-badge.svg\" alt=\"Open In Colab\"/></a>"
      ]
    },
    {
      "cell_type": "markdown",
      "metadata": {
        "id": "HL-hr6mpoQ5h"
      },
      "source": [
        "Используя файл Lesson_7_extended.ipynb (он в web7.zip в материалах):\n",
        "\n",
        "1. К алгоритму kNN, реализованному на уроке, реализовать добавление весов для соседей по любому из показанных на уроке принципов.\n",
        "2. * Написать функцию подсчета метрики качества кластеризации как среднее квадратичное внутрикластерное расстояние и построить график ее зависимости от количества кластеров k (взять от 1 до 10) для выборки данных из данного урока (создать датасет, как в методичке).\n",
        "3. * Оптимизировать код для KNN (оставить один цикл, либо обойтись без циклов вообще).\n"
      ]
    },
    {
      "cell_type": "code",
      "metadata": {
        "id": "f7bU10PFoKKV"
      },
      "source": [
        "import numpy as np\n",
        "import matplotlib.pyplot as plt"
      ],
      "execution_count": 17,
      "outputs": []
    },
    {
      "cell_type": "markdown",
      "metadata": {
        "id": "jjJzkJKXqluM"
      },
      "source": [
        "# Задание №1\n",
        "К алгоритму `kNN`, реализованному на уроке, реализовать добавление весов для соседей по любому из показанных на уроке принципов."
      ]
    },
    {
      "cell_type": "markdown",
      "metadata": {
        "id": "yhQIgdyYqIAl"
      },
      "source": [
        "## Реализация алгоритма kNN из лекции"
      ]
    },
    {
      "cell_type": "code",
      "metadata": {
        "id": "2KPpyBvdqw7C"
      },
      "source": [
        "#Евклидова метрика расстояния\n",
        "def e_metrics(x1, x2):\n",
        "      \n",
        "    distance = np.sum(np.square(x1 - x2))\n",
        "\n",
        "    return np.sqrt(distance)"
      ],
      "execution_count": 69,
      "outputs": []
    },
    {
      "cell_type": "code",
      "metadata": {
        "id": "djg0P0Gfqw4V"
      },
      "source": [
        "#Алгоритм поиска ближайших\n",
        "def knn(x_train, y_train, x_test, k, q = 0.25):\n",
        "    answers = []\n",
        "    for x in x_test:\n",
        "        test_distances = []\n",
        "            \n",
        "        for i in range(len(x_train)):\n",
        "            \n",
        "            # расчет расстояния от классифицируемого объекта до\n",
        "            # объекта обучающей выборки\n",
        "            distance = e_metrics(x, x_train[i])\n",
        "            \n",
        "            # Записываем в список значение расстояния и ответа на объекте обучающей выборки\n",
        "            test_distances.append((distance, y_train[i]))\n",
        "        \n",
        "        # создаем словарь со всеми возможными классами\n",
        "        classes = {class_item: 0 for class_item in set(y_train)}\n",
        "\n",
        "        # Сортируем список и среди первых k элементов подсчитаем частоту появления разных классов\n",
        "        #----------ВОТ ТУТ Я ДОБАВИЛ--------\n",
        "\n",
        "        for d in sorted(test_distances)[0:k]:\n",
        "            if q != 0: #это нужно для того, что бы при 0**0 = 0, по базе питон считает, что 0**0 = 1\n",
        "              classes[d[1]] += q**d[0] \n",
        "        print(classes)\n",
        "       # print(sorted(test_distances)[0:k])\n",
        "        print(sorted(classes, key=classes.get)[-1])\n",
        "        print('--------')\n",
        "        #----------ВОТ ТУТ ЗАКОНЧИЛ-----------\n",
        "\n",
        "        # Записываем в список ответов наиболее часто встречающийся класс\n",
        "        answers.append(sorted(classes, key=classes.get)[-1])\n",
        "        \n",
        "    return answers"
      ],
      "execution_count": 143,
      "outputs": []
    },
    {
      "cell_type": "code",
      "metadata": {
        "id": "x8FNN25Yqw14"
      },
      "source": [
        "def accuracy(pred, y):\n",
        "    return (sum(pred == y) / len(y))"
      ],
      "execution_count": 39,
      "outputs": []
    },
    {
      "cell_type": "markdown",
      "metadata": {
        "id": "QxXLm__hr32E"
      },
      "source": [
        "## Подготовка данных"
      ]
    },
    {
      "cell_type": "code",
      "metadata": {
        "id": "cNtUYYJ_r7gu"
      },
      "source": [
        "from sklearn.datasets import load_iris\n",
        "\n",
        "X, y = load_iris(return_X_y=True)\n",
        "\n",
        "# Для наглядности возьмем только первые два признака (всего в датасете их 4)\n",
        "X = X[:, :2]"
      ],
      "execution_count": 40,
      "outputs": []
    },
    {
      "cell_type": "code",
      "metadata": {
        "colab": {
          "base_uri": "https://localhost:8080/"
        },
        "id": "3zQUsH2PRlV7",
        "outputId": "e840e4e7-dd65-4bb5-cef2-4a04df6e000b"
      },
      "source": [
        "0**0"
      ],
      "execution_count": 138,
      "outputs": [
        {
          "output_type": "execute_result",
          "data": {
            "text/plain": [
              "1"
            ]
          },
          "metadata": {
            "tags": []
          },
          "execution_count": 138
        }
      ]
    },
    {
      "cell_type": "code",
      "metadata": {
        "id": "P_YKi8Mer_57"
      },
      "source": [
        "from sklearn.model_selection import train_test_split\n",
        "\n",
        "X_train, X_test, y_train, y_test = train_test_split(X, y,\n",
        "                                                    test_size=0.2,\n",
        "                                                    random_state=1,\n",
        "                                                    stratify=y)"
      ],
      "execution_count": 41,
      "outputs": []
    },
    {
      "cell_type": "code",
      "metadata": {
        "colab": {
          "base_uri": "https://localhost:8080/",
          "height": 430
        },
        "id": "cRinSes4sK_a",
        "outputId": "2a996ab3-95d4-46fc-d7eb-8b5acfb8974c"
      },
      "source": [
        "from matplotlib.colors import ListedColormap\n",
        "cmap = ListedColormap(['red', 'green', 'blue'])\n",
        "plt.figure(figsize=(7, 7))\n",
        "plt.scatter(X[:, 0], X[:, 1], c=y, cmap=cmap);"
      ],
      "execution_count": 42,
      "outputs": [
        {
          "output_type": "display_data",
          "data": {
            "image/png": "[encoded data removed]",
            "text/plain": [
              "<Figure size 504x504 with 1 Axes>"
            ]
          },
          "metadata": {
            "tags": [],
            "needs_background": "light"
          }
        }
      ]
    },
    {
      "cell_type": "markdown",
      "metadata": {
        "id": "h3C_iLqAsbVe"
      },
      "source": [
        "## Проверка\n"
      ]
    },
    {
      "cell_type": "code",
      "metadata": {
        "colab": {
          "base_uri": "https://localhost:8080/"
        },
        "id": "-OD55v5vseHE",
        "outputId": "61f91cf0-e4eb-4ee6-b12c-78662f0fe61b"
      },
      "source": [
        "k = 10\n",
        "q = 0\n",
        "y_pred = knn(X_train, y_train, X_test, k, q)\n",
        "\n",
        "print(f'Точность алгоритма при k = {k}: {accuracy(y_pred, y_test):.3f}')"
      ],
      "execution_count": 144,
      "outputs": [
        {
          "output_type": "stream",
          "text": [
            "{0: 0, 1: 0, 2: 0}\n",
            "2\n",
            "--------\n",
            "{0: 0, 1: 0, 2: 0}\n",
            "2\n",
            "--------\n",
            "{0: 0, 1: 0, 2: 0}\n",
            "2\n",
            "--------\n",
            "{0: 0, 1: 0, 2: 0}\n",
            "2\n",
            "--------\n",
            "{0: 0, 1: 0, 2: 0}\n",
            "2\n",
            "--------\n",
            "{0: 0, 1: 0, 2: 0}\n",
            "2\n",
            "--------\n",
            "{0: 0, 1: 0, 2: 0}\n",
            "2\n",
            "--------\n",
            "{0: 0, 1: 0, 2: 0}\n",
            "2\n",
            "--------\n",
            "{0: 0, 1: 0, 2: 0}\n",
            "2\n",
            "--------\n",
            "{0: 0, 1: 0, 2: 0}\n",
            "2\n",
            "--------\n",
            "{0: 0, 1: 0, 2: 0}\n",
            "2\n",
            "--------\n",
            "{0: 0, 1: 0, 2: 0}\n",
            "2\n",
            "--------\n",
            "{0: 0, 1: 0, 2: 0}\n",
            "2\n",
            "--------\n",
            "{0: 0, 1: 0, 2: 0}\n",
            "2\n",
            "--------\n",
            "{0: 0, 1: 0, 2: 0}\n",
            "2\n",
            "--------\n",
            "{0: 0, 1: 0, 2: 0}\n",
            "2\n",
            "--------\n",
            "{0: 0, 1: 0, 2: 0}\n",
            "2\n",
            "--------\n",
            "{0: 0, 1: 0, 2: 0}\n",
            "2\n",
            "--------\n",
            "{0: 0, 1: 0, 2: 0}\n",
            "2\n",
            "--------\n",
            "{0: 0, 1: 0, 2: 0}\n",
            "2\n",
            "--------\n",
            "{0: 0, 1: 0, 2: 0}\n",
            "2\n",
            "--------\n",
            "{0: 0, 1: 0, 2: 0}\n",
            "2\n",
            "--------\n",
            "{0: 0, 1: 0, 2: 0}\n",
            "2\n",
            "--------\n",
            "{0: 0, 1: 0, 2: 0}\n",
            "2\n",
            "--------\n",
            "{0: 0, 1: 0, 2: 0}\n",
            "2\n",
            "--------\n",
            "{0: 0, 1: 0, 2: 0}\n",
            "2\n",
            "--------\n",
            "{0: 0, 1: 0, 2: 0}\n",
            "2\n",
            "--------\n",
            "{0: 0, 1: 0, 2: 0}\n",
            "2\n",
            "--------\n",
            "{0: 0, 1: 0, 2: 0}\n",
            "2\n",
            "--------\n",
            "{0: 0, 1: 0, 2: 0}\n",
            "2\n",
            "--------\n",
            "Точность алгоритма при k = 10: 0.333\n"
          ],
          "name": "stdout"
        }
      ]
    },
    {
      "cell_type": "code",
      "metadata": {
        "colab": {
          "base_uri": "https://localhost:8080/",
          "height": 495
        },
        "id": "5DD1Sg9lwd_J",
        "outputId": "890d140d-8604-4738-fd52-a3ed67b1149a"
      },
      "source": [
        "%time\n",
        "def get_graph(X_train, y_train, k):\n",
        "    cmap_light = ListedColormap(['#FFAAAA', '#AAFFAA','#00AAFF'])\n",
        "\n",
        "    h = .02\n",
        "\n",
        "    # Расчет пределов графика\n",
        "    x_min, x_max = X_train[:, 0].min() - 1, X_train[:, 0].max() + 1\n",
        "    y_min, y_max = X_train[:, 1].min() - 1, X_train[:, 1].max() + 1\n",
        "    xx, yy = np.meshgrid(np.arange(x_min, x_max, h), np.arange(y_min, y_max, h))\n",
        "    print(np.c_[xx.ravel(), yy.ravel()].shape)\n",
        "\n",
        "    # Получим предсказания для всех точек\n",
        "    Z = knn(X_train, y_train, np.c_[xx.ravel(), yy.ravel()], k)\n",
        "    # Построим график\n",
        "    Z = np.array(Z).reshape(xx.shape)\n",
        "    plt.figure(figsize=(7,7))\n",
        "    plt.pcolormesh(xx, yy, Z, cmap=cmap_light)\n",
        "\n",
        "    # Добавим на график обучающую выборку\n",
        "    plt.scatter(X_train[:, 0], X_train[:, 1], c=y_train, cmap=cmap)\n",
        "    plt.xlim(xx.min(), xx.max())\n",
        "    plt.ylim(yy.min(), yy.max())\n",
        "    plt.title(f\"Трехклассовая kNN классификация при k = {k}\")\n",
        "    plt.show()\n",
        "get_graph(X_train, y_train, k)"
      ],
      "execution_count": 36,
      "outputs": [
        {
          "output_type": "stream",
          "text": [
            "CPU times: user 2 µs, sys: 0 ns, total: 2 µs\n",
            "Wall time: 5.01 µs\n",
            "(58800, 2)\n"
          ],
          "name": "stdout"
        },
        {
          "output_type": "display_data",
          "data": {
            "image/png": "[encoded data removed]",
            "text/plain": [
              "<Figure size 504x504 with 1 Axes>"
            ]
          },
          "metadata": {
            "tags": [],
            "needs_background": "light"
          }
        }
      ]
    },
    {
      "cell_type": "code",
      "metadata": {
        "id": "683wO3EDw2ck"
      },
      "source": [
        ""
      ],
      "execution_count": null,
      "outputs": []
    }
  ]
}