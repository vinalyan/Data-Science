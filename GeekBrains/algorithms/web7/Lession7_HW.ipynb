{
  "nbformat": 4,
  "nbformat_minor": 0,
  "metadata": {
    "colab": {
      "name": "Lession7_HW.ipynb",
      "provenance": [],
      "authorship_tag": "ABX9TyPkZY3jcIPXOmIBiSO2Uzns",
      "include_colab_link": true
    },
    "kernelspec": {
      "name": "python3",
      "display_name": "Python 3"
    }
  },
  "cells": [
    {
      "cell_type": "markdown",
      "metadata": {
        "id": "view-in-github",
        "colab_type": "text"
      },
      "source": [
        "<a href=\"https://colab.research.google.com/github/vinalyan/Data-Science/blob/master/GeekBrains/algorithms/web7/Lession7_HW.ipynb\" target=\"_parent\"><img src=\"https://colab.research.google.com/assets/colab-badge.svg\" alt=\"Open In Colab\"/></a>"
      ]
    },
    {
      "cell_type": "markdown",
      "metadata": {
        "id": "HL-hr6mpoQ5h"
      },
      "source": [
        "Используя файл Lesson_7_extended.ipynb (он в web7.zip в материалах):\n",
        "\n",
        "1. К алгоритму kNN, реализованному на уроке, реализовать добавление весов для соседей по любому из показанных на уроке принципов.\n",
        "2. * Написать функцию подсчета метрики качества кластеризации как среднее квадратичное внутрикластерное расстояние и построить график ее зависимости от количества кластеров k (взять от 1 до 10) для выборки данных из данного урока (создать датасет, как в методичке).\n",
        "3. * Оптимизировать код для KNN (оставить один цикл, либо обойтись без циклов вообще).\n"
      ]
    },
    {
      "cell_type": "code",
      "metadata": {
        "id": "f7bU10PFoKKV"
      },
      "source": [
        "import numpy as np\n",
        "import matplotlib.pyplot as plt"
      ],
      "execution_count": 2,
      "outputs": []
    },
    {
      "cell_type": "markdown",
      "metadata": {
        "id": "jjJzkJKXqluM"
      },
      "source": [
        "# Задание №1\n",
        "К алгоритму `kNN`, реализованному на уроке, реализовать добавление весов для соседей по любому из показанных на уроке принципов."
      ]
    },
    {
      "cell_type": "code",
      "metadata": {
        "id": "UhgLBAtGqxG6"
      },
      "source": [
        ""
      ],
      "execution_count": null,
      "outputs": []
    },
    {
      "cell_type": "markdown",
      "metadata": {
        "id": "yhQIgdyYqIAl"
      },
      "source": [
        "## Реализация алгоритма kNN из лекции"
      ]
    },
    {
      "cell_type": "code",
      "metadata": {
        "id": "2KPpyBvdqw7C"
      },
      "source": [
        "#Евклидова метрика расстояния\n",
        "def e_metrics(x1, x2):\n",
        "    \n",
        "    distance = 0\n",
        "    for i in range(len(x1)):\n",
        "        distance += np.square(x1[i] - x2[i])\n",
        "        \n",
        "    distance = np.sum(np.square(x1 - x2))\n",
        "\n",
        "    return np.sqrt(distance)"
      ],
      "execution_count": 5,
      "outputs": []
    },
    {
      "cell_type": "code",
      "metadata": {
        "id": "djg0P0Gfqw4V"
      },
      "source": [
        "#Алгоритм поиска ближайших\n",
        "def knn(x_train, y_train, x_test, k):\n",
        "    \n",
        "    answers = []\n",
        "    for x in x_test:\n",
        "        test_distances = []\n",
        "            \n",
        "        for i in range(len(x_train)):\n",
        "            \n",
        "            # расчет расстояния от классифицируемого объекта до\n",
        "            # объекта обучающей выборки\n",
        "            distance = e_metrics(x, x_train[i])\n",
        "            \n",
        "            # Записываем в список значение расстояния и ответа на объекте обучающей выборки\n",
        "            test_distances.append((distance, y_train[i]))\n",
        "        \n",
        "        # создаем словарь со всеми возможными классами\n",
        "        classes = {class_item: 0 for class_item in set(y_train)}\n",
        "        \n",
        "        # Сортируем список и среди первых k элементов подсчитаем частоту появления разных классов\n",
        "        for d in sorted(test_distances)[0:k]:\n",
        "            classes[d[1]] += 1\n",
        "\n",
        "        # Записываем в список ответов наиболее часто встречающийся класс\n",
        "        answers.append(sorted(classes, key=classes.get)[-1])\n",
        "        \n",
        "    return answers"
      ],
      "execution_count": 6,
      "outputs": []
    },
    {
      "cell_type": "code",
      "metadata": {
        "id": "x8FNN25Yqw14"
      },
      "source": [
        "def accuracy(pred, y):\n",
        "    return (sum(pred == y) / len(y))"
      ],
      "execution_count": 7,
      "outputs": []
    },
    {
      "cell_type": "markdown",
      "metadata": {
        "id": "QxXLm__hr32E"
      },
      "source": [
        "## Подготовка данных"
      ]
    },
    {
      "cell_type": "code",
      "metadata": {
        "id": "cNtUYYJ_r7gu"
      },
      "source": [
        "from sklearn.datasets import load_iris\n",
        "\n",
        "X, y = load_iris(return_X_y=True)\n",
        "\n",
        "# Для наглядности возьмем только первые два признака (всего в датасете их 4)\n",
        "X = X[:, :2]"
      ],
      "execution_count": 9,
      "outputs": []
    },
    {
      "cell_type": "code",
      "metadata": {
        "id": "P_YKi8Mer_57"
      },
      "source": [
        "X_train, X_test, y_train, y_test = train_test_split(X, y,\n",
        "                                                    test_size=0.2,\n",
        "                                                    random_state=1,\n",
        "                                                    stratify=y)"
      ],
      "execution_count": 10,
      "outputs": []
    },
    {
      "cell_type": "code",
      "metadata": {
        "colab": {
          "base_uri": "https://localhost:8080/",
          "height": 430
        },
        "id": "cRinSes4sK_a",
        "outputId": "c8b7e377-1606-4d1a-fcf9-d9c29d5f0303"
      },
      "source": [
        "cmap = ListedColormap(['red', 'green', 'blue'])\n",
        "plt.figure(figsize=(7, 7))\n",
        "plt.scatter(X[:, 0], X[:, 1], c=y, cmap=cmap);"
      ],
      "execution_count": 11,
      "outputs": [
        {
          "output_type": "display_data",
          "data": {
            "image/png": "[encoded data removed]",
            "text/plain": [
              "<Figure size 504x504 with 1 Axes>"
            ]
          },
          "metadata": {
            "tags": [],
            "needs_background": "light"
          }
        }
      ]
    },
    {
      "cell_type": "code",
      "metadata": {
        "id": "bS_1jl1hsOOZ"
      },
      "source": [
        ""
      ],
      "execution_count": null,
      "outputs": []
    },
    {
      "cell_type": "markdown",
      "metadata": {
        "id": "h3C_iLqAsbVe"
      },
      "source": [
        "## Проверка\n"
      ]
    },
    {
      "cell_type": "code",
      "metadata": {
        "colab": {
          "base_uri": "https://localhost:8080/"
        },
        "id": "-OD55v5vseHE",
        "outputId": "8f99fb07-a5b3-45b6-f9a7-42f679a63803"
      },
      "source": [
        "k = 5\n",
        "\n",
        "y_pred = knn(X_train, y_train, X_test, k)\n",
        "\n",
        "print(f'Точность алгоритма при k = {k}: {accuracy(y_pred, y_test):.3f}')"
      ],
      "execution_count": 13,
      "outputs": [
        {
          "output_type": "stream",
          "text": [
            "Точность алгоритма при k = 5: 0.733\n"
          ],
          "name": "stdout"
        }
      ]
    },
    {
      "cell_type": "code",
      "metadata": {
        "id": "_0yrRBsfsemI"
      },
      "source": [
        ""
      ],
      "execution_count": null,
      "outputs": []
    }
  ]
}